{
 "cells": [
  {
   "cell_type": "code",
   "execution_count": 2,
   "metadata": {},
   "outputs": [],
   "source": [
    "import os\n",
    "import numpy as np\n",
    "import matplotlib.pyplot as plt\n",
    "from post_process_numpy import pol2cord, distance\n",
    "import matplotlib.image as image\n",
    "from tqdm import tqdm"
   ]
  },
  {
   "cell_type": "code",
   "execution_count": 17,
   "metadata": {},
   "outputs": [],
   "source": [
    "cls = np.load(r'dats\\data_base_2m.npy',allow_pickle=True).item()"
   ]
  },
  {
   "cell_type": "code",
   "execution_count": null,
   "metadata": {},
   "outputs": [],
   "source": [
    "ad_map = np.load('2019-09-16-13-13-01_000040.npy')\n",
    "ad_map[31:34,:]=0\n",
    "ad_map =np.flip(ad_map,axis=1)"
   ]
  },
  {
   "cell_type": "code",
   "execution_count": null,
   "metadata": {},
   "outputs": [],
   "source": [
    "plt.imshow(ad_map)"
   ]
  },
  {
   "cell_type": "code",
   "execution_count": 12,
   "metadata": {},
   "outputs": [],
   "source": [
    "destination = r'G:\\EFS-GX6\\4130_Arbeitsgruppen\\4137_KHO_Performance\\Studentische_Themen\\RaviKothari\\thesis\\images'\n"
   ]
  },
  {
   "cell_type": "code",
   "execution_count": null,
   "metadata": {},
   "outputs": [],
   "source": [
    "grd_cord = analysis.item()['grd'].to(device='cpu').numpy()\n",
    "grd_cord = np.reshape(grd_cord,(len(grd_cord)//5,5)).astype('int')\n",
    "prd_cord = analysis.item()['prd'].to(device='cpu').numpy()\n",
    "prd_cord = np.reshape(prd_cord,(len(prd_cord)//5,5)).astype('int')"
   ]
  },
  {
   "cell_type": "code",
   "execution_count": null,
   "metadata": {},
   "outputs": [],
   "source": [
    "cord_dict = dict()\n",
    "for i in range(64):\n",
    "    cord_dict[f\"{i}\"]={}\n",
    "    for j in range(16):\n",
    "        cord_dict[f\"{i}\"][f\"{j}\"]={}\n",
    "        cord_dict[f\"{i}\"][f\"{j}\"]['grd']=[]\n",
    "        cord_dict[f\"{i}\"][f\"{j}\"]['prd']=[]\n",
    "\n"
   ]
  },
  {
   "cell_type": "code",
   "execution_count": null,
   "metadata": {},
   "outputs": [],
   "source": [
    "for p_cord in prd_cord:\n",
    "    batch = p_cord[-1]\n",
    "    frame = p_cord[0]\n",
    "    cord = p_cord[1:4]\n",
    "    cord_dict[f\"{batch}\"][f\"{frame}\"]['prd'].append(cord)\n",
    "\n",
    "for g_cord in grd_cord:\n",
    "    batch = g_cord[-1]\n",
    "    frame = g_cord[0]\n",
    "    cord = g_cord[1:4]\n",
    "    cord_dict[f\"{batch}\"][f\"{frame}\"]['grd'].append(cord)\n"
   ]
  },
  {
   "cell_type": "code",
   "execution_count": null,
   "metadata": {},
   "outputs": [],
   "source": [
    "color = ['blue','green','red']\n",
    "dir_path = r'/home/ravikothari/dev/analysis'\n",
    "for i in tqdm(range(64)):\n",
    "    for j in range(16):\n",
    "        prd_ind = cord_dict[f\"{i}\"][f\"{j}\"]['prd']\n",
    "        grd_ind = cord_dict[f\"{i}\"][f\"{j}\"]['grd']\n",
    "        if len(prd_ind)!=0 or len(grd_ind)!=0:\n",
    "            fig,ax = plt.subplots(1,1,figsize=(5,5))\n",
    "            ax.title.set_text('Preds vs GT')\n",
    "            ax.set_xlim(0,256)\n",
    "            ax.set_ylim(0,256)\n",
    "            ax.set_xticks([0, 256*1/4-1,256*2/4-1,256*3/4-1,256-1])\n",
    "            ax.set_yticks([0,256*1/5-1,256*2/5-1,256*3/5-1, 256*4/5-1,256-1])\n",
    "            ax.set_yticklabels([0,10,20,30,40,50])\n",
    "            ax.set_xticklabels(np.round(np.rad2deg(np.arcsin(np.linspace(-1,1,5))),1))\n",
    "            ax.set_ylabel('Distance (m)')\n",
    "            ax.set_xlabel('Angle (Degree)') \n",
    "    \n",
    "            for pred_cord in prd_ind:\n",
    "                chn = pred_cord[0]\n",
    "                row , col = pred_cord[1],pred_cord[2]\n",
    "                ax.scatter(int(col), int(256-row), s=10, c=color[int(chn)],marker=\"s\")\n",
    "                #ax.text(col -5, int(256-row+5), \"%.2f\" % intent, color='black', fontsize=5)\n",
    "    \n",
    "            for grd_cord in grd_ind:\n",
    "                chn = grd_cord[0]        \n",
    "                row , col = grd_cord[1],grd_cord[2]\n",
    "                ax.scatter(col, 256-row, s=10, c=color[int(chn)],marker=\"o\")\n",
    "                plt.savefig(os.path.join(dir_path,f\"{i}_{j}.jpg\"))\n",
    "                plt.close\n",
    "                break\n",
    "            \n",
    "    \n",
    "\n",
    "\n",
    "\n",
    "\n"
   ]
  },
  {
   "cell_type": "code",
   "execution_count": 13,
   "metadata": {},
   "outputs": [
    {
     "data": {
      "image/png": "[encoded data removed]",
      "text/plain": [
       "<Figure size 864x288 with 6 Axes>"
      ]
     },
     "metadata": {
      "needs_background": "light"
     },
     "output_type": "display_data"
    }
   ],
   "source": [
    "fig,ax = plt.subplots(1,3,figsize=(12,4))\n",
    "title = ['Pedestrain','Cyclist', 'Car']\n",
    "ra_size =[16,16]\n",
    "plt.suptitle('Mean Error Map')\n",
    "fig.tight_layout()\n",
    "max =0\n",
    "for label in range(3):\n",
    "    gt_r = [int(idx ) for idx in cls[f\"{label}\"]['asc']['gt_r']]\n",
    "    gt_a = [int(idx ) for idx in cls[f\"{label}\"]['asc']['gt_a']]\n",
    "    pd_r = [int(idx ) for idx in cls[f\"{label}\"]['asc']['pd_r']]\n",
    "    pd_a = [int(idx ) for idx in cls[f\"{label}\"]['asc']['gt_a']]\n",
    "    glb_dist =[]\n",
    "\n",
    "    error = np.zeros((16,16))\n",
    "    for i in range(16):\n",
    "        for j in range(16):\n",
    "            idx_bin = []\n",
    "            dist =[]\n",
    "            for cnt,gt_ir in enumerate(gt_r):\n",
    "                if gt_ir>=i*16 and gt_ir<(i+1)*16 and gt_a[cnt]>=j*16 and gt_a[cnt]<(j+1)*16:\n",
    "                    idx_bin=np.append(idx_bin,cnt)\n",
    "            idx_bin = [int(idx) for idx in idx_bin]\n",
    "            if len(idx_bin)!=0:\n",
    "                for idx in idx_bin:\n",
    "                    x_g,y_g = pol2cord(gt_r[idx], gt_a[idx])\n",
    "                    x_p,y_p = pol2cord(pd_r[idx],pd_a[idx])\n",
    "                    dist = np.append(dist,distance(x_g,y_g,x_p,y_p))\n",
    "                    glb_dist = np.append(glb_dist,distance(x_g,y_g,x_p,y_p))\n",
    "                    max = np.max((max,np.mean(dist)))\n",
    "                error[i,j] = np.mean(dist)\n",
    "\n",
    "    im = ax[label].imshow(error)\n",
    "    ax[label].set_xticks([0, ra_size[1]*1/4-1,ra_size[1]*2/4-1,ra_size[1]*3/4-1,ra_size[1]-1])\n",
    "    ax[label].set_yticks([0,ra_size[1]*1/5-1,ra_size[1]*2/5-1,ra_size[1]*3/5-1, ra_size[1]*4/5-1,ra_size[1]-1])\n",
    "    ax[label].set_yticklabels([50, 40, 30, 20, 10, 0])\n",
    "    ax[label].set_xticklabels(np.round(np.rad2deg(np.arcsin(np.linspace(-1,1,5))),1))\n",
    "    ax[label].set_ylabel('Distance (m)')\n",
    "    ax[label].set_xlabel('Angle (Degree)')\n",
    "    mean = \"{:.2f}\".format(np.mean(glb_dist))\n",
    "    ax[label].title.set_text(title[label] + f\" mean error :{mean} m\")\n",
    "    fig.colorbar(im,ax=ax[label])\n",
    "#plt.savefig(os.path.join(destination,'distmse.jpg'),dpi=1200)"
   ]
  },
  {
   "cell_type": "code",
   "execution_count": 18,
   "metadata": {},
   "outputs": [
    {
     "data": {
      "image/png": "[encoded data removed]",
      "text/plain": [
       "<Figure size 360x288 with 2 Axes>"
      ]
     },
     "metadata": {
      "needs_background": "light"
     },
     "output_type": "display_data"
    }
   ],
   "source": [
    "fig,ax = plt.subplots(1,1,figsize=(5,4))\n",
    "title = ['Pedestrain','Cyclist', 'Car']\n",
    "ra_size =[16,16]\n",
    "#plt.suptitle('Mean Error Map')\n",
    "fig.tight_layout()\n",
    "max =0\n",
    "mean_d = 0\n",
    "error_f = np.zeros((3,16,16))\n",
    "for label in range(3):\n",
    "    gt_r = [int(idx ) for idx in cls[f\"{label}\"]['asc']['gt_r']]\n",
    "    gt_a = [int(idx ) for idx in cls[f\"{label}\"]['asc']['gt_a']]\n",
    "    pd_r = [int(idx ) for idx in cls[f\"{label}\"]['asc']['pd_r']]\n",
    "    pd_a = [int(idx ) for idx in cls[f\"{label}\"]['asc']['gt_a']]\n",
    "    glb_dist =[]\n",
    "\n",
    "    error = np.zeros((16,16))\n",
    "    for i in range(16):\n",
    "        for j in range(16):\n",
    "            idx_bin = []\n",
    "            dist =[]\n",
    "            for cnt,gt_ir in enumerate(gt_r):\n",
    "                if gt_ir>=i*16 and gt_ir<(i+1)*16 and gt_a[cnt]>=j*16 and gt_a[cnt]<(j+1)*16:\n",
    "                    idx_bin=np.append(idx_bin,cnt)\n",
    "            idx_bin = [int(idx) for idx in idx_bin]\n",
    "            if len(idx_bin)!=0:\n",
    "                for idx in idx_bin:\n",
    "                    x_g,y_g = pol2cord(gt_r[idx], gt_a[idx])\n",
    "                    x_p,y_p = pol2cord(pd_r[idx],pd_a[idx])\n",
    "                    dist = np.append(dist,distance(x_g,y_g,x_p,y_p))\n",
    "                    glb_dist = np.append(glb_dist,distance(x_g,y_g,x_p,y_p))\n",
    "                    max = np.max((max,np.mean(dist)))\n",
    "                error[i,j] = np.mean(dist)\n",
    "    error_f[label,::]=error\n",
    "    mean_d += np.mean(glb_dist)\n",
    "im = ax.imshow(np.mean(error_f,axis=0),vmin=0,vmax=0.5)\n",
    "ax.set_xticks([0, ra_size[1]*1/4-1,ra_size[1]*2/4-1,ra_size[1]*3/4-1,ra_size[1]-1])\n",
    "ax.set_yticks([0,ra_size[1]*1/5-1,ra_size[1]*2/5-1,ra_size[1]*3/5-1, ra_size[1]*4/5-1,ra_size[1]-1])\n",
    "ax.set_yticklabels([50, 40, 30, 20, 10, 0])\n",
    "ax.set_xticklabels(np.round(np.rad2deg(np.arcsin(np.linspace(-1,1,5))),1))\n",
    "ax.set_ylabel('Distance (m)',fontsize=14)\n",
    "ax.set_xlabel('Angle (Degree)',fontsize=14)\n",
    "mean = \"{:.2f}\".format(mean_d/3)\n",
    "\n",
    "ax.set_title(f\" mean error :{mean} m\",size=14,fontweight ='bold')\n",
    "fig.colorbar(im,ax=ax)\n",
    "plt.savefig(os.path.join(destination,'distmse_bi.png'),dpi=1200)"
   ]
  },
  {
   "cell_type": "code",
   "execution_count": 7,
   "metadata": {},
   "outputs": [
    {
     "data": {
      "text/plain": [
       "'0.10'"
      ]
     },
     "execution_count": 7,
     "metadata": {},
     "output_type": "execute_result"
    }
   ],
   "source": [
    "mean"
   ]
  },
  {
   "cell_type": "code",
   "execution_count": 10,
   "metadata": {},
   "outputs": [],
   "source": [
    "destination = r'G:\\EFS-GX6\\4130_Arbeitsgruppen\\4137_KHO_Performance\\Studentische_Themen\\RaviKothari\\thesis\\images'"
   ]
  },
  {
   "cell_type": "code",
   "execution_count": 11,
   "metadata": {},
   "outputs": [
    {
     "data": {
      "text/plain": [
       "<Figure size 432x288 with 0 Axes>"
      ]
     },
     "metadata": {},
     "output_type": "display_data"
    }
   ],
   "source": [
    "plt.savefig(os.path.join(destination,'distmse.pnj'),dpi=1200)"
   ]
  }
 ],
 "metadata": {
  "interpreter": {
   "hash": "916dbcbb3f70747c44a77c7bcd40155683ae19c65e1c03b4aa3499c5328201f1"
  },
  "kernelspec": {
   "display_name": "Python 3.8.10 64-bit",
   "name": "python3"
  },
  "language_info": {
   "codemirror_mode": {
    "name": "ipython",
    "version": 3
   },
   "file_extension": ".py",
   "mimetype": "text/x-python",
   "name": "python",
   "nbconvert_exporter": "python",
   "pygments_lexer": "ipython3",
   "version": "3.7.4"
  },
  "orig_nbformat": 4
 },
 "nbformat": 4,
 "nbformat_minor": 2
}
