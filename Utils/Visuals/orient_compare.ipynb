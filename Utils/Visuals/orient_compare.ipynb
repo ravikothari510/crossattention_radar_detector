{
 "cells": [
  {
   "cell_type": "code",
   "execution_count": 1,
   "metadata": {},
   "outputs": [],
   "source": [
    "import json\n",
    "import torch.nn as nn\n",
    "import torch\n",
    "import numpy as np\n",
    "import matplotlib.pyplot as plt\n",
    "import matplotlib.image as mpimg\n",
    "import matplotlib \n",
    "import os\n",
    "from OS_CFAR_2D import DetectPeaksOSCFAR_2D\n",
    "from scipy.special import softmax\n",
    "from post_process_numpy_neu import peaks_detect,association,create_default,distribute,analyse,orent"
   ]
  },
  {
   "cell_type": "code",
   "execution_count": 2,
   "metadata": {},
   "outputs": [],
   "source": [
    "device='cpu'\n",
    "def_map = torch.rand((16,3,256,256))\n",
    "mask, peak_cls = create_default(def_map.shape,(3,5))\n",
    "mask = mask.to(device=device)\n",
    "peak_cls = peak_cls.to(device=device)"
   ]
  },
  {
   "cell_type": "code",
   "execution_count": 115,
   "metadata": {},
   "outputs": [],
   "source": [
    "destination = r'G:\\EFS-GX6\\4130_Arbeitsgruppen\\4137_KHO_Performance\\Studentische_Themen\\RaviKothari\\thesis\\images\\orien'\n",
    "cam_dir = r'G:\\EFS-GX6\\4130_Arbeitsgruppen\\4137_KHO_Performance\\Studentische_Themen\\RaviKothari\\Dataset\\CARRADA_old\\Carrada\\raw_radar'"
   ]
  },
  {
   "cell_type": "code",
   "execution_count": 132,
   "metadata": {},
   "outputs": [
    {
     "name": "stdout",
     "output_type": "stream",
     "text": [
      "tensor(-8.7423e-08) tensor(-1.) 0 48.0 117.0\n",
      "tensor(-8.7423e-08) tensor(-1.) 0 176.0 85.0\n"
     ]
    }
   ],
   "source": [
    "\n",
    "for frame in range(2,3):\n",
    "    grd_map = np.load(os.path.join(r'saved_output\\5fr',str(frame)+'_grd_map.npy'))\n",
    "    ra_map = np.load(os.path.join(r'saved_output\\5fr',str(frame)+'_ra_map.npy'))\n",
    "    pred_map_f = np.load(os.path.join(r'saved_output\\5fr',str(frame)+'_preds_map.npy'))\n",
    "    grd_o = np.load(os.path.join(r'saved_output\\5fr',str(frame)+'_grd_o.npy'))\n",
    "    pred_f = np.load(os.path.join(r'saved_output\\5fr',str(frame)+'_preds_o.npy'))\n",
    "    name = np.load(r'saved_output\\5fr\\name_list.npy',allow_pickle=True).item()\n",
    "\n",
    "\n",
    "\n",
    "    pred_cp_f =torch.Tensor().to(device =device)\n",
    "    grd_cp_f =torch.Tensor().to(device =device)\n",
    "\n",
    "    grd_intent,grd_idx = peaks_detect(torch.from_numpy(grd_map).to(device=device),mask,peak_cls,heat_thresh=0.8)\n",
    "    grd_idx = distribute(grd_idx,device)\n",
    "    grd_idx=grd_idx.to(device=device)\n",
    "    #grd_idx,grd_intent= association(grd_intent,grd_idx,device)\n",
    "\n",
    "    pred_intent_f,pred_idx_f = peaks_detect(torch.from_numpy(pred_map_f).to(device=device),mask,peak_cls,heat_thresh=0.2)\n",
    "    pred_idx_f = distribute(pred_idx_f,device)\n",
    "    #print(len(pred_idx[0]))\n",
    "    pred_idx_f,pred_intent_f= association(pred_intent_f,pred_idx_f,device)\n",
    "    pred_idx_f=pred_idx_f.to(device=device)\n",
    "\n",
    "    grd_cp_f,prd_cp_f = analyse(grd_idx,pred_idx_f,grd_cp_f,pred_cp_f,frame,dist_thresh=2)\n",
    "    pred_idx_f =pred_idx_f.numpy()\n",
    "    grd_cp_f = np.reshape(grd_cp_f.numpy(),(len(grd_cp_f.numpy())//5,5)).astype('int')\n",
    "    prd_cp_f = np.reshape(prd_cp_f.numpy(),(len(prd_cp_f.numpy())//5,5)).astype('int')\n",
    "\n",
    "    tp_cord_f = dict()\n",
    "    tp_cord_f['prd']={}\n",
    "    tp_cord_f['grd']={}\n",
    "    for i in range(16):\n",
    "        tp_cord_f['prd'][f\"{i}\"]={}\n",
    "        tp_cord_f['grd'][f\"{i}\"]={}\n",
    "        for j in range(3):\n",
    "            tp_cord_f['prd'][f\"{i}\"][f\"{j}\"]=[]\n",
    "            tp_cord_f['grd'][f\"{i}\"][f\"{j}\"]=[]\n",
    "\n",
    "\n",
    "    for ind in prd_cp_f:\n",
    "        frm = ind[0]\n",
    "        c_ind = ind[1]\n",
    "        cord = ind[2:4]\n",
    "        tp_cord_f['prd'][f\"{frm}\"][f\"{c_ind}\"].append(cord)\n",
    "\n",
    "    for ind in grd_cp_f:\n",
    "        frm = ind[0]\n",
    "        c_ind = ind[1]\n",
    "        cord = ind[2:4]\n",
    "        tp_cord_f['grd'][f\"{frm}\"][f\"{c_ind}\"].append(cord)\n",
    "\n",
    "\n",
    "\n",
    "\n",
    "\n",
    "\n",
    "\n",
    "    #grd_map = np.load(f\"output\\saved_baseline\\{frame}_grd_map.npy\")\n",
    "    #ra_map = np.load(f\"output\\saved_baseline\\{frame}_ra_map.npy\")\n",
    "    pred_map_t = np.load(os.path.join(r'saved_output\\3fr',str(frame)+'_preds_map.npy'))\n",
    "    pred_t = np.load(os.path.join(r'saved_output\\3fr',str(frame)+'_preds_o.npy'))\n",
    "\n",
    "\n",
    "    pred_cp_t =torch.Tensor().to(device =device)\n",
    "    grd_cp_t =torch.Tensor().to(device =device)\n",
    "\n",
    "    grd_intent,grd_idx = peaks_detect(torch.from_numpy(grd_map).to(device=device),mask,peak_cls,heat_thresh=0.8)\n",
    "    grd_idx = distribute(grd_idx,device)\n",
    "    grd_idx=grd_idx.to(device=device)\n",
    "    #grd_idx,grd_intent= association(grd_intent,grd_idx,device)\n",
    "\n",
    "    pred_intent_t,pred_idx_t = peaks_detect(torch.from_numpy(pred_map_t).to(device=device),mask,peak_cls,heat_thresh=0.2)\n",
    "    pred_idx_t = distribute(pred_idx_t,device)\n",
    "    #print(len(pred_idx[0]))\n",
    "    pred_idx_t,pred_intent_t= association(pred_intent_t,pred_idx_t,device)\n",
    "    pred_idx_t=pred_idx_t.to(device=device)\n",
    "\n",
    "    grd_cp_t,prd_cp_t = analyse(grd_idx,pred_idx_t,grd_cp_t,pred_cp_t,frame,dist_thresh=2)\n",
    "    pred_idx_t =pred_idx_t.numpy()\n",
    "    grd_idx = grd_idx.numpy()\n",
    "    grd_cp_t = np.reshape(grd_cp_t.numpy(),(len(grd_cp_t.numpy())//5,5)).astype('int')\n",
    "    prd_cp_t = np.reshape(prd_cp_t.numpy(),(len(prd_cp_t.numpy())//5,5)).astype('int')\n",
    "\n",
    "    tp_cord_t = dict()\n",
    "    tp_cord_t['prd']={}\n",
    "    tp_cord_t['grd']={}\n",
    "    for i in range(16):\n",
    "        tp_cord_t['prd'][f\"{i}\"]={}\n",
    "        tp_cord_t['grd'][f\"{i}\"]={}\n",
    "        for j in range(3):\n",
    "            tp_cord_t['prd'][f\"{i}\"][f\"{j}\"]=[]\n",
    "            tp_cord_t['grd'][f\"{i}\"][f\"{j}\"]=[]\n",
    "\n",
    "\n",
    "    for ind in prd_cp_t:\n",
    "        frm = ind[0]\n",
    "        c_ind = ind[1]\n",
    "        cord = ind[2:4]\n",
    "        tp_cord_t['prd'][f\"{frm}\"][f\"{c_ind}\"].append(cord)\n",
    "\n",
    "    for ind in grd_cp_t:\n",
    "        frm = ind[0]\n",
    "        c_ind = ind[1]\n",
    "        cord = ind[2:4]\n",
    "        tp_cord_t['grd'][f\"{frm}\"][f\"{c_ind}\"].append(cord)\n",
    "    \n",
    "    # single frame \n",
    "    pred_map_s = np.load(os.path.join(r'saved_output\\1fr',str(frame)+'_preds_map.npy'))\n",
    "    pred_s = np.load(os.path.join(r'saved_output\\1fr',str(frame)+'_preds_o.npy'))\n",
    "\n",
    "\n",
    "    pred_cp_s =torch.Tensor().to(device =device)\n",
    "    grd_cp_s =torch.Tensor().to(device =device)\n",
    "\n",
    "    grd_intent,grd_idx = peaks_detect(torch.from_numpy(grd_map).to(device=device),mask,peak_cls,heat_thresh=0.8)\n",
    "    grd_idx = distribute(grd_idx,device)\n",
    "    grd_idx=grd_idx.to(device=device)\n",
    "    #grd_idx,grd_intent= association(grd_intent,grd_idx,device)\n",
    "\n",
    "    pred_intent_s,pred_idx_s = peaks_detect(torch.from_numpy(pred_map_s).to(device=device),mask,peak_cls,heat_thresh=0.2)\n",
    "    pred_idx_s = distribute(pred_idx_s,device)\n",
    "    #print(len(pred_idx[0]))\n",
    "    pred_idx_s,pred_intent_s= association(pred_intent_s,pred_idx_s,device)\n",
    "    pred_idx_s=pred_idx_s.to(device=device)\n",
    "\n",
    "    grd_cp_s,prd_cp_s = analyse(grd_idx,pred_idx_s,grd_cp_s,pred_cp_s,frame,dist_thresh=2)\n",
    "    pred_idx_s =pred_idx_s.numpy()\n",
    "    grd_idx = grd_idx.numpy()\n",
    "    grd_cp_s = np.reshape(grd_cp_s.numpy(),(len(grd_cp_s.numpy())//5,5)).astype('int')\n",
    "    prd_cp_s = np.reshape(prd_cp_s.numpy(),(len(prd_cp_s.numpy())//5,5)).astype('int')\n",
    "\n",
    "    tp_cord_s = dict()\n",
    "    tp_cord_s['prd']={}\n",
    "    tp_cord_s['grd']={}\n",
    "    for i in range(16):\n",
    "        tp_cord_s['prd'][f\"{i}\"]={}\n",
    "        tp_cord_s['grd'][f\"{i}\"]={}\n",
    "        for j in range(3):\n",
    "            tp_cord_s['prd'][f\"{i}\"][f\"{j}\"]=[]\n",
    "            tp_cord_s['grd'][f\"{i}\"][f\"{j}\"]=[]\n",
    "\n",
    "\n",
    "    for ind in prd_cp_s:\n",
    "        frm = ind[0]\n",
    "        c_ind = ind[1]\n",
    "        cord = ind[2:4]\n",
    "        tp_cord_s['prd'][f\"{frm}\"][f\"{c_ind}\"].append(cord)\n",
    "\n",
    "    for ind in grd_cp_s:\n",
    "        frm = ind[0]\n",
    "        c_ind = ind[1]\n",
    "        cord = ind[2:4]\n",
    "        tp_cord_s['grd'][f\"{frm}\"][f\"{c_ind}\"].append(cord)\n",
    "\n",
    "    #for idx in range(pred_map.shape[0]):\n",
    "    for idx in range(6,7): \n",
    "        seqn,frt=name[str(frame)][str(idx)].split('_')  \n",
    "        frt,_=frt.split('.')\n",
    "\n",
    "\n",
    "        ra_mapfar = ra_map[idx,0,::]\n",
    "        \n",
    "        pred_inst_f = np.copy(pred_map_f[idx,:,:,:])\n",
    "        pred_inst_t = np.copy(pred_map_t[idx,:,:,:])\n",
    "        pred_inst_s = np.copy(pred_map_s[idx,:,:,:])\n",
    "\n",
    "        ra_size = pred_inst_f.shape[1:]\n",
    "        fig, ax  = plt.subplots(1,4,figsize = (20,5))\n",
    "        #plt.title('Predictions')\n",
    "        #plt.suptitle('Predictions vs GT')\n",
    "        #fig.tight_layout()\n",
    "        ax[0].axis('off')\n",
    "        \n",
    "        ax[0].imshow(mpimg.imread(os.path.join(cam_dir,seqn,'camera_images',frt+'.jpg')))\n",
    "        #ax[1,0].imshow(ra_mapfar)\n",
    "        ax[0].title.set_text('Image View')\n",
    "        ax[0].title.set_fontsize(14)\n",
    "\n",
    "\n",
    "        color_map = ['Blues','Greens','Reds']\n",
    "        title = ['Pedestrain','Cyclist', 'Car']\n",
    "        \n",
    "        \n",
    "        ax[1].title.set_text('5 Frame')\n",
    "        ax[1].title.set_fontsize(14)\n",
    "        ax[2].title.set_text('3 Frame')\n",
    "        ax[2].title.set_fontsize(14)\n",
    "        ax[3].title.set_text('1 Frame')\n",
    "        ax[3].title.set_fontsize(14)\n",
    "\n",
    "        for i in range(1,4):\n",
    "            ax[i].set_xticks([0, ra_size[1]*1/4-1,ra_size[1]*2/4-1,ra_size[1]*3/4-1,ra_size[1]-1])\n",
    "            ax[i].set_yticks([0,ra_size[1]*1/5-1,ra_size[1]*2/5-1,ra_size[1]*3/5-1, ra_size[1]*4/5-1,ra_size[1]-1])\n",
    "            ax[i].set_yticklabels([50, 40, 30, 20, 10, 0])\n",
    "            ax[i].set_xticklabels(np.round(np.rad2deg(np.arcsin(np.linspace(-1,1,5))),1))\n",
    "            ax[i].set_xlabel('Angle (Degree)')\n",
    "            if i==1:ax[i].set_ylabel('Distance (m)')\n",
    "            ax[i].set_xlim(0,ra_map.shape[2])\n",
    "            ax[i].set_ylim(0,ra_map.shape[3])\n",
    "            ax[i].invert_yaxis()\n",
    "\n",
    "\n",
    "        cord = dict()\n",
    "        cord['Pred'] ={'0':[],'1':[],'2':[]}\n",
    "        cord['GT'] ={'0':[],'1':[],'2':[]}\n",
    "\n",
    "\n",
    "\n",
    "        #ax[2].set_xlim(0,ra_map.shape[2])\n",
    "        #ax[2].set_ylim(0,ra_map.shape[3])\n",
    "\n",
    "        \n",
    "        color = ['blue','green','red']\n",
    "\n",
    "        # 5 frame scatter plot\n",
    "        k=25\n",
    "        for cnt,pred_cord in enumerate(pred_idx_f):\n",
    "            if pred_cord[0]==idx :\n",
    "                chn = pred_cord[1]\n",
    "                row , col ,intent= pred_cord[2],pred_cord[3], pred_intent_f[cnt]\n",
    "\n",
    "                ang = orent(torch.from_numpy(pred_f[idx,::]),int(row//4),int(col//4))\n",
    "                si = np.sin(np.deg2rad(ang))\n",
    "                ci = np.cos(np.deg2rad(ang))        \n",
    "                \n",
    "                false_p = tp_cord_f['prd'][f\"{int(idx)}\"][f\"{int(chn)}\"]\n",
    "                token = False\n",
    "                for cord_fp in false_p:\n",
    "                    if int(row)==cord_fp[0] and int(col) == cord_fp[1]:\n",
    "                        token = True\n",
    "                        ax[1].scatter(int(col), int(row), s=100, edgecolors=color[int(chn)],marker=\"s\", facecolor ='none')\n",
    "\n",
    "                if not token:\n",
    "                        ax[1].scatter(int(col), int(row), s=50, c=color[int(chn)],marker=\"s\")\n",
    "                        ax[1].text(col -5, int(row+5), \"%.2f\" % intent, color='black', fontsize=5)\n",
    "                        ax[1].arrow(int(col), int(row),k*si,-k*ci,color =color[int(chn)],head_width=5)\n",
    "\n",
    "\n",
    "        for cnt,grd_cord in enumerate(grd_idx):\n",
    "            if grd_cord[0] ==idx:\n",
    "                token = False\n",
    "                chn = grd_cord[1]        \n",
    "                row , col = grd_cord[2],grd_cord[3]\n",
    "                \n",
    "                tro_id = np.nonzero(grd_o[idx,0,::])\n",
    "                if len(tro_id[0])>0:\n",
    "                    tro_min  =np.argmin(np.abs(tro_id[0]-(row//4)))\n",
    "                else:\n",
    "                    tro_id = np.nonzero(grd_o[idx,1,::])\n",
    "                    tro_min = np.argmin(np.abs(tro_id[0]-(row//4)))\n",
    "\n",
    "\n",
    "                ang = orent(torch.from_numpy(grd_o[idx,::]),tro_id[0][tro_min],tro_id[1][tro_min])\n",
    "                si = np.sin(np.deg2rad(ang))\n",
    "                ci = np.cos(np.deg2rad(ang)) \n",
    "\n",
    "                false_n = tp_cord_f['grd'][f\"{int(idx)}\"][f\"{int(chn)}\"]\n",
    "                for cord_fp in false_n:\n",
    "                    if int(row)==cord_fp[0] and int(col) == cord_fp[1]: \n",
    "                        token=True\n",
    "                        ax[1].scatter(int(col), int(row), s=100, edgecolors=color[int(chn)],marker=\"o\", facecolor ='none')\n",
    "                if not token:\n",
    "                    ax[1].scatter(col,row, s=50, c=color[int(chn)],marker=\"o\")\n",
    "                    ax[1].arrow(int(col), int(row),k*si,-k*ci,color ='black',head_width=5,linestyle='--')\n",
    " \n",
    "        # 3 frame scatter plot\n",
    "        for cnt,pred_cord in enumerate(pred_idx_t):\n",
    "            if pred_cord[0]==idx :\n",
    "                chn = pred_cord[1]\n",
    "                row , col ,intent= pred_cord[2],pred_cord[3], pred_intent_t[cnt]\n",
    "                ang = orent(torch.from_numpy(pred_t[idx,::]),int(row//4),int(col//4))\n",
    "                si = np.sin(np.deg2rad(ang))\n",
    "                ci = np.cos(np.deg2rad(ang))  \n",
    "                \n",
    "                false_p = tp_cord_t['prd'][f\"{int(idx)}\"][f\"{int(chn)}\"]\n",
    "                token = False\n",
    "                for cord_fp in false_p:\n",
    "                    if int(row)==cord_fp[0] and int(col) == cord_fp[1]:\n",
    "                        token = True\n",
    "                        ax[2].scatter(int(col), int(row), s=100, edgecolors=color[int(chn)],marker=\"s\", facecolor ='none')\n",
    "\n",
    "                if not token:\n",
    "                        ax[2].scatter(int(col), int(row), s=50, c=color[int(chn)],marker=\"s\")\n",
    "                        ax[2].text(col -5, int(row+5), \"%.2f\" % intent, color='black', fontsize=5)\n",
    "                        ax[2].arrow(int(col), int(row),k*si,-k*ci,color =color[int(chn)],head_width=5)\n",
    "\n",
    "        for cnt,grd_cord in enumerate(grd_idx):\n",
    "            if grd_cord[0] ==idx:\n",
    "                token = False\n",
    "                chn = grd_cord[1]        \n",
    "                row , col = grd_cord[2],grd_cord[3]\n",
    "                tro_id = np.nonzero(grd_o[idx,0,::])\n",
    "                if len(tro_id[0])>0:\n",
    "                    tro_min  =np.argmin(np.abs(tro_id[0]-(row//4)))\n",
    "                else:\n",
    "                    tro_id = np.nonzero(grd_o[idx,1,::])\n",
    "                    tro_min = np.argmin(np.abs(tro_id[0]-(row//4)))\n",
    "\n",
    "                ang = orent(torch.from_numpy(grd_o[idx,::]),tro_id[0][tro_min],tro_id[1][tro_min])\n",
    "                si = np.sin(np.deg2rad(ang))\n",
    "                ci = np.cos(np.deg2rad(ang))\n",
    "                \n",
    "                false_n = tp_cord_t['grd'][f\"{int(idx)}\"][f\"{int(chn)}\"]\n",
    "                for cord_fp in false_n:\n",
    "                    if int(row)==cord_fp[0] and int(col) == cord_fp[1]: \n",
    "                        token=True\n",
    "                        ax[2].scatter(int(col), int(row), s=100, edgecolors=color[int(chn)],marker=\"o\", facecolor ='none')\n",
    "                if not token:\n",
    "                    ax[2].scatter(col,row, s=50, c=color[int(chn)],marker=\"o\")    \n",
    "                    ax[2].arrow(int(col), int(row),k*si,-k*ci,color ='black',head_width=5,linestyle='--')\n",
    " \n",
    "        \n",
    "        # 1 frame scatter plot\n",
    "        for cnt,pred_cord in enumerate(pred_idx_s):\n",
    "            if pred_cord[0]==idx :\n",
    "                chn = pred_cord[1]\n",
    "                row , col ,intent= pred_cord[2],pred_cord[3], pred_intent_s[cnt]\n",
    "                ang = orent(torch.from_numpy(pred_t[idx,::]),int(row//4),int(col//4))\n",
    "                si = np.sin(np.deg2rad(ang))\n",
    "                ci = np.cos(np.deg2rad(ang))  \n",
    "                \n",
    "                false_p = tp_cord_s['prd'][f\"{int(idx)}\"][f\"{int(chn)}\"]\n",
    "                token = False\n",
    "                for cord_fp in false_p:\n",
    "                    if int(row)==cord_fp[0] and int(col) == cord_fp[1]:\n",
    "                        token = True\n",
    "                        ax[3].scatter(int(col), int(row), s=100, edgecolors=color[int(chn)],marker=\"s\", facecolor ='none')\n",
    "\n",
    "                if not token:\n",
    "                        ax[3].scatter(int(col), int(row), s=50, c=color[int(chn)],marker=\"s\")\n",
    "                        ax[3].text(col -5, int(row+5), \"%.2f\" % intent, color='black', fontsize=5)\n",
    "                        ax[3].arrow(int(col), int(row),k*si,-k*ci,color =color[int(chn)],head_width=5)\n",
    "\n",
    "        for cnt,grd_cord in enumerate(grd_idx):\n",
    "            if grd_cord[0] ==idx:\n",
    "                token = False\n",
    "                chn = grd_cord[1]        \n",
    "                row , col = grd_cord[2],grd_cord[3]\n",
    "                tro_id = np.nonzero(grd_o[idx,0,::])\n",
    "                if len(tro_id[0])>0:\n",
    "                    tro_min  =np.argmin(np.abs(tro_id[0]-(row//4)))\n",
    "                else:\n",
    "                    tro_id = np.nonzero(grd_o[idx,1,::])\n",
    "                    tro_min = np.argmin(np.abs(tro_id[0]-(row//4)))\n",
    "\n",
    "                ang = orent(torch.from_numpy(grd_o[idx,::]),tro_id[0][tro_min],tro_id[1][tro_min])\n",
    "                si = np.sin(np.deg2rad(ang))\n",
    "                ci = np.cos(np.deg2rad(ang))\n",
    "                print(si,ci,tro_min,row,col)\n",
    "                \n",
    "                false_n = tp_cord_s['grd'][f\"{int(idx)}\"][f\"{int(chn)}\"]\n",
    "                for cord_fp in false_n:\n",
    "                    if int(row)==cord_fp[0] and int(col) == cord_fp[1]: \n",
    "                        token=True\n",
    "                        ax[3].scatter(int(col), int(row), s=100, edgecolors=color[int(chn)],marker=\"o\", facecolor ='none')\n",
    "                if not token:\n",
    "                    ax[3].scatter(col,row, s=50, c=color[int(chn)],marker=\"o\")    \n",
    "                    ax[3].arrow(int(col), int(row),k*si,-k*ci,color ='black',head_width=5,linestyle='--')\n",
    " \n",
    "        \n",
    "        #plt.savefig(os.path.join(destination,str(frame)+'_'+str(idx)+'.png'))\n",
    "        plt.savefig(os.path.join(destination,str(frame)+'_'+str(idx)+'.jpg'),dpi=1200)\n",
    "        plt.close()\n",
    "                        \n"
   ]
  },
  {
   "cell_type": "code",
   "execution_count": 136,
   "metadata": {},
   "outputs": [
    {
     "data": {
      "text/plain": [
       "12"
      ]
     },
     "execution_count": 136,
     "metadata": {},
     "output_type": "execute_result"
    }
   ],
   "source": [
    "tro_id[0][0]"
   ]
  },
  {
   "cell_type": "code",
   "execution_count": 103,
   "metadata": {},
   "outputs": [],
   "source": [
    "for x in tro_id[0]:\n",
    "    print('in')"
   ]
  },
  {
   "cell_type": "code",
   "execution_count": 127,
   "metadata": {},
   "outputs": [
    {
     "data": {
      "text/plain": [
       "'2020-02-28-12-16-05_000087.npy'"
      ]
     },
     "execution_count": 127,
     "metadata": {},
     "output_type": "execute_result"
    }
   ],
   "source": [
    "name[str(frame)][str(idx)]"
   ]
  },
  {
   "cell_type": "code",
   "execution_count": 131,
   "metadata": {},
   "outputs": [
    {
     "data": {
      "text/plain": [
       "array([[  0.,   0., 202.,  61.],\n",
       "       [  1.,   1., 176.,  67.],\n",
       "       [  2.,   0., 201., 181.],\n",
       "       [  3.,   2.,  93., 135.],\n",
       "       [  4.,   0.,  46., 129.],\n",
       "       [  4.,   0., 211.,  89.],\n",
       "       [  5.,   0.,  82., 132.],\n",
       "       [  5.,   1., 121., 118.],\n",
       "       [  6.,   0.,  48., 117.],\n",
       "       [  6.,   1., 176.,  85.],\n",
       "       [  7.,   0.,  56., 116.],\n",
       "       [  7.,   1., 123., 116.],\n",
       "       [  8.,   2., 147., 131.],\n",
       "       [  9.,   1., 182., 232.],\n",
       "       [  9.,   2., 182., 188.],\n",
       "       [ 10.,   2., 202., 138.],\n",
       "       [ 11.,   1., 226., 126.],\n",
       "       [ 11.,   2.,  85., 130.],\n",
       "       [ 12.,   1., 199.,  94.],\n",
       "       [ 13.,   2.,  62., 133.],\n",
       "       [ 14.,   2., 193., 118.],\n",
       "       [ 15.,   2., 218.,  82.]], dtype=float32)"
      ]
     },
     "execution_count": 131,
     "metadata": {},
     "output_type": "execute_result"
    }
   ],
   "source": [
    "grd_idx"
   ]
  },
  {
   "cell_type": "code",
   "execution_count": 137,
   "metadata": {},
   "outputs": [],
   "source": [
    "ang = orent(torch.from_numpy(grd_o[6,::]),12,29).numpy()"
   ]
  },
  {
   "cell_type": "code",
   "execution_count": 138,
   "metadata": {},
   "outputs": [],
   "source": [
    "si = np.sin(np.deg2rad(ang))\n",
    "ci = np.cos(np.deg2rad(ang))"
   ]
  },
  {
   "cell_type": "code",
   "execution_count": 139,
   "metadata": {},
   "outputs": [
    {
     "data": {
      "text/plain": [
       "(-8.742278e-08, -1.0)"
      ]
     },
     "execution_count": 139,
     "metadata": {},
     "output_type": "execute_result"
    }
   ],
   "source": [
    "si,ci"
   ]
  },
  {
   "cell_type": "code",
   "execution_count": 57,
   "metadata": {},
   "outputs": [
    {
     "data": {
      "text/plain": [
       "<matplotlib.patches.FancyArrow at 0x19e831d4b48>"
      ]
     },
     "execution_count": 57,
     "metadata": {},
     "output_type": "execute_result"
    },
    {
     "data": {
      "image/png": "[encoded data removed]",
      "text/plain": [
       "<Figure size 432x288 with 1 Axes>"
      ]
     },
     "metadata": {
      "needs_background": "light"
     },
     "output_type": "display_data"
    }
   ],
   "source": [
    "plt.scatter(10,10)\n",
    "plt.scatter(0,0)\n",
    "plt.scatter(20,20)\n",
    "plt.arrow(10,10,si,ci,color ='Red')"
   ]
  },
  {
   "cell_type": "code",
   "execution_count": 128,
   "metadata": {},
   "outputs": [],
   "source": [
    "anno = np.load('gt_annotation.npy',allow_pickle=True).item()"
   ]
  },
  {
   "cell_type": "code",
   "execution_count": 65,
   "metadata": {},
   "outputs": [],
   "source": [
    "seq,fr = name['2']['1'].split('_')"
   ]
  },
  {
   "cell_type": "code",
   "execution_count": 130,
   "metadata": {},
   "outputs": [
    {
     "data": {
      "text/plain": [
       "'000087'"
      ]
     },
     "execution_count": 130,
     "metadata": {},
     "output_type": "execute_result"
    }
   ],
   "source": [
    "frt"
   ]
  },
  {
   "cell_type": "code",
   "execution_count": 129,
   "metadata": {},
   "outputs": [
    {
     "data": {
      "text/plain": [
       "{'cls': [2.0, 1.0],\n",
       " 'idx': [[68.0, 168.0, 108.0, 188.0], [100.0, 39.0, 140.0, 59.0]],\n",
       " 'key': ['a1', 'r1', 'a2', 'r2'],\n",
       " 'velo': [1.9285714285714288, -1.9285714285714288],\n",
       " 'mu_r': [177.45384615384614, 49.28042328042328],\n",
       " 'mu_a': [87.58461538461539, 119.55026455026454],\n",
       " 'sigma_r': [4.919682882673472, 6.07582301847211],\n",
       " 'sigma_a': [12.176852239847511, 10.610305229224108],\n",
       " 'sigma_cov': [array([0.64875367]), array([0.17517051, 0.16277966])],\n",
       " 'orent': [0, 180]}"
      ]
     },
     "execution_count": 129,
     "metadata": {},
     "output_type": "execute_result"
    }
   ],
   "source": [
    "anno[str(seqn)][str(frt)]"
   ]
  },
  {
   "cell_type": "code",
   "execution_count": 72,
   "metadata": {},
   "outputs": [
    {
     "data": {
      "text/plain": [
       "17.0"
      ]
     },
     "execution_count": 72,
     "metadata": {},
     "output_type": "execute_result"
    }
   ],
   "source": [
    "np.ceil(67/4)"
   ]
  },
  {
   "cell_type": "code",
   "execution_count": 67,
   "metadata": {},
   "outputs": [
    {
     "data": {
      "text/plain": [
       "{'cls': [2.0],\n",
       " 'idx': [[48.0, 168.0, 88.0, 188.0]],\n",
       " 'key': ['a1', 'r1', 'a2', 'r2'],\n",
       " 'velo': [1.0714285714285712],\n",
       " 'mu_r': [176.85534591194968],\n",
       " 'mu_a': [68.49685534591195],\n",
       " 'sigma_r': [2.5052766541371896],\n",
       " 'sigma_a': [9.992322504598455],\n",
       " 'sigma_cov': [array([0.37075023])],\n",
       " 'orent': [281.8505330007547, 0]}"
      ]
     },
     "execution_count": 67,
     "metadata": {},
     "output_type": "execute_result"
    }
   ],
   "source": [
    "anno[seq]['000345']"
   ]
  },
  {
   "cell_type": "code",
   "execution_count": 28,
   "metadata": {},
   "outputs": [
    {
     "data": {
      "text/plain": [
       "<matplotlib.image.AxesImage at 0x19e84390ec8>"
      ]
     },
     "execution_count": 28,
     "metadata": {},
     "output_type": "execute_result"
    },
    {
     "data": {
      "image/png": "[encoded data removed]",
      "text/plain": [
       "<Figure size 432x288 with 1 Axes>"
      ]
     },
     "metadata": {
      "needs_background": "light"
     },
     "output_type": "display_data"
    }
   ],
   "source": [
    "plt.imshow(grd_map[0,0,::])"
   ]
  },
  {
   "cell_type": "code",
   "execution_count": null,
   "metadata": {},
   "outputs": [],
   "source": []
  }
 ],
 "metadata": {
  "kernelspec": {
   "display_name": "Python 3.9.13 ('radar_cross')",
   "language": "python",
   "name": "python3"
  },
  "language_info": {
   "codemirror_mode": {
    "name": "ipython",
    "version": 3
   },
   "file_extension": ".py",
   "mimetype": "text/x-python",
   "name": "python",
   "nbconvert_exporter": "python",
   "pygments_lexer": "ipython3",
   "version": "3.9.13"
  },
  "orig_nbformat": 4,
  "vscode": {
   "interpreter": {
    "hash": "72c0408f9eceae58c9a0a512e2c2fe203df5f61cb599b5e35928ff2ede5583e0"
   }
  }
 },
 "nbformat": 4,
 "nbformat_minor": 2
}
