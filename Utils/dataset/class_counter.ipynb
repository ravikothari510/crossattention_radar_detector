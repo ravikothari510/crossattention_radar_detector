{
 "cells": [
  {
   "cell_type": "code",
   "execution_count": 1,
   "metadata": {},
   "outputs": [],
   "source": [
    "import numpy as np\n",
    "import os\n",
    "import matplotlib.pyplot as plt\n",
    "from tqdm import tqdm\n",
    "import matplotlib.image as image\n",
    "import json"
   ]
  },
  {
   "cell_type": "code",
   "execution_count": 3,
   "metadata": {},
   "outputs": [],
   "source": [
    "gt_path = r'C:\\Users\\u27v31\\Desktop\\AVL\\personal\\thesis\\source_code\\Utils\\Carrada Annotation\\gt_annotation.npy'\n",
    "anno = np.load(gt_path,allow_pickle=True).item()"
   ]
  },
  {
   "cell_type": "code",
   "execution_count": 4,
   "metadata": {},
   "outputs": [],
   "source": [
    "data = dict()\n",
    "data['1']={'r':[],'a':[],'v':[],'o':[]}\n",
    "data['2']={'r':[],'a':[],'v':[],'o':[]}\n",
    "data['3']={'r':[],'a':[],'v':[],'o':[]}"
   ]
  },
  {
   "cell_type": "code",
   "execution_count": 5,
   "metadata": {},
   "outputs": [
    {
     "name": "stderr",
     "output_type": "stream",
     "text": [
      "100%|██████████| 30/30 [00:00<00:00, 967.50it/s]\n"
     ]
    }
   ],
   "source": [
    "for seq in tqdm(anno):\n",
    "    for fr in anno[seq]['tracks']:\n",
    "        frame = str(fr[-1]).zfill(6)\n",
    "        for cnt,obj in enumerate(anno[seq][frame]['cls']):\n",
    "            obj = str(int(obj))\n",
    "            data[obj]['r'].append(anno[seq][frame]['mu_r'][cnt])\n",
    "            data[obj]['a'].append(anno[seq][frame]['mu_a'][cnt])\n",
    "            try : data[obj]['v'].append(anno[seq][frame]['velo'][cnt])\n",
    "            except: \n",
    "                data[obj]['v'].append(anno[seq][frame]['velo'][cnt-1])\n",
    "                #anno[seq][frame]['velo'].append(anno[seq][str(int(frame)-1).zfill(6)]['velo'][cnt])\n",
    "\n",
    "            try :data[obj]['o'].append(anno[seq][frame]['orent'][cnt])\n",
    "            except:data[obj]['o'].append(anno[seq][frame]['orent'])                 "
   ]
  },
  {
   "cell_type": "code",
   "execution_count": 6,
   "metadata": {},
   "outputs": [
    {
     "name": "stdout",
     "output_type": "stream",
     "text": [
      "3598 3598 3598 3598\n"
     ]
    }
   ],
   "source": [
    "print(len(data['1']['r']),len(data['1']['a']),len(data['1']['v']),len(data['1']['o']))\n"
   ]
  },
  {
   "cell_type": "code",
   "execution_count": 7,
   "metadata": {},
   "outputs": [
    {
     "name": "stdout",
     "output_type": "stream",
     "text": [
      "1697 1697 3598 1697\n"
     ]
    }
   ],
   "source": [
    "print(len(data['2']['r']),len(data['2']['a']),len(data['1']['v']),len(data['2']['o']))"
   ]
  },
  {
   "cell_type": "code",
   "execution_count": 8,
   "metadata": {},
   "outputs": [
    {
     "name": "stdout",
     "output_type": "stream",
     "text": [
      "3305 3305 3598 1697\n"
     ]
    }
   ],
   "source": [
    "print(len(data['3']['r']),len(data['3']['a']),len(data['1']['v']),len(data['2']['o']))"
   ]
  },
  {
   "cell_type": "code",
   "execution_count": null,
   "metadata": {},
   "outputs": [],
   "source": [
    "mask_dir = r'G:\\EFS-GX6\\4130_Arbeitsgruppen\\4137_KHO_Performance\\Studentische_Themen\\RaviKothari\\Dataset\\CARRADA_old\\50_Dataset\\bi_variate_norm\\val_mask'\n",
    "mask_list = os.listdir(mask_dir)\n",
    "dir = r'G:\\EFS-GX6\\4130_Arbeitsgruppen\\4137_KHO_Performance\\Studentische_Themen\\RaviKothari\\Dataset\\CARRADA_old\\Carrada\\raw_radar'"
   ]
  },
  {
   "cell_type": "code",
   "execution_count": null,
   "metadata": {},
   "outputs": [],
   "source": [
    "destination = r'G:\\EFS-GX6\\4130_Arbeitsgruppen\\4137_KHO_Performance\\Studentische_Themen\\RaviKothari\\thesis\\images'"
   ]
  },
  {
   "cell_type": "code",
   "execution_count": null,
   "metadata": {},
   "outputs": [],
   "source": [
    "oren = (np.append(np.append(data['1']['o'],data['2']['o']),data['3']['o']))"
   ]
  },
  {
   "cell_type": "code",
   "execution_count": null,
   "metadata": {},
   "outputs": [],
   "source": [
    "plt.hist(o)"
   ]
  },
  {
   "cell_type": "code",
   "execution_count": null,
   "metadata": {},
   "outputs": [],
   "source": [
    "o = []\n",
    "for cnt,i in enumerate(oren):\n",
    "    if np.isnan(i): \n",
    "        i = oren[cnt-1]\n",
    "\n",
    "    try:x = int(i)\n",
    "    except: x = int(i[0])\n",
    "\n",
    "    if x>180:\n",
    "        o.append(x-360)\n",
    "    else:o.append(x)\n"
   ]
  },
  {
   "cell_type": "code",
   "execution_count": null,
   "metadata": {},
   "outputs": [],
   "source": [
    "#plt.hist(np.rad2deg(np.arcsin(((np.append(np.append(data['1']['a'],data['2']['a']),data['3']['a'])/128)-1))))\n",
    "#plt.hist(((np.append(np.append(data['1']['r'],data['2']['r']),data['3']['r'])/256)*50))\n",
    "plt.hist(o)\n",
    "plt.xlabel('Orientation')\n",
    "plt.savefig(os.path.join(destination,'oriendata.jpg'),dpi=1200)"
   ]
  },
  {
   "cell_type": "code",
   "execution_count": null,
   "metadata": {},
   "outputs": [],
   "source": [
    "pedes = 0\n",
    "cyclist =0\n",
    "car = 0"
   ]
  },
  {
   "cell_type": "code",
   "execution_count": null,
   "metadata": {},
   "outputs": [],
   "source": [
    "for name in tqdm(mask_list):\n",
    "    seq,frame,_= name.split(\"_\")\n",
    "\n",
    "    box = json.load(open(os.path.join(dir,seq,'box_proj.json')))\n",
    "    label = box[frame]['cls']\n",
    "\n",
    "    for cls in label:\n",
    "        if cls ==1:\n",
    "            pedes +=1\n",
    "        elif cls==2:\n",
    "            cyclist +=1\n",
    "        else : \n",
    "            car +=1\n",
    "\n",
    "    # mask = np.load(os.path.join(mask_dir,name))\n",
    "    # back=np.append(back,np.max(mask==0))\n",
    "    # pedes=np.append(pedes,np.max(mask==1))\n",
    "    # cyclist=np.append(cyclist,np.max(mask==2))\n",
    "    # car=np.append(car,np.max(mask==3))"
   ]
  },
  {
   "cell_type": "code",
   "execution_count": null,
   "metadata": {},
   "outputs": [],
   "source": [
    "print(pedes,car,cyclist)"
   ]
  }
 ],
 "metadata": {
  "kernelspec": {
   "display_name": "Python 3.10.2 64-bit",
   "language": "python",
   "name": "python3"
  },
  "language_info": {
   "codemirror_mode": {
    "name": "ipython",
    "version": 3
   },
   "file_extension": ".py",
   "mimetype": "text/x-python",
   "name": "python",
   "nbconvert_exporter": "python",
   "pygments_lexer": "ipython3",
   "version": "3.10.2"
  },
  "orig_nbformat": 4,
  "vscode": {
   "interpreter": {
    "hash": "81873df20a426a7ac5a4b0ca9c56ba1b8ae6a36640c8c3fde1e76ccafc3ced05"
   }
  }
 },
 "nbformat": 4,
 "nbformat_minor": 2
}
