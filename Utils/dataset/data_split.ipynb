{
 "cells": [
  {
   "cell_type": "code",
   "execution_count": null,
   "metadata": {},
   "outputs": [],
   "source": [
    "import os\n",
    "import sys\n",
    "import numpy as np\n",
    "#import torch\n",
    "#import shutil\n",
    "from PIL import Image\n",
    "import numpy as np\n",
    "import matplotlib.pyplot as plt\n",
    "import random\n",
    "#from albumentations.pytorch import ToTensorV2\n",
    "#import collections\n",
    "from tqdm import tqdm\n",
    "import json\n",
    "import matplotlib.pyplot as plt\n",
    "from bi_gauss_update import gauss_map_2,save_gauss_2,bi_var_gauss"
   ]
  },
  {
   "cell_type": "code",
   "execution_count": null,
   "metadata": {},
   "outputs": [],
   "source": [
    "train_per = 0.8\n",
    "val_per = 0.2*train_per"
   ]
  },
  {
   "cell_type": "code",
   "execution_count": null,
   "metadata": {},
   "outputs": [],
   "source": [
    "raw_radar_dir = r'G:\\EFS-GX6\\4130_Arbeitsgruppen\\4137_KHO_Performance\\Studentische_Themen\\RaviKothari\\Dataset\\CARRADA_old\\Carrada\\raw_radar'\n",
    "radar_folder_list = os.listdir(raw_radar_dir)\n",
    "random.shuffle(radar_folder_list)\n",
    "gauss_dir = r'G:\\EFS-GX6\\4130_Arbeitsgruppen\\4137_KHO_Performance\\Studentische_Themen\\RaviKothari\\Dataset\\CARRADA_old\\50_Dataset\\gauss_vis'\n",
    "doppler_dir = r'G:\\EFS-GX6\\4130_Arbeitsgruppen\\4137_KHO_Performance\\Studentische_Themen\\RaviKothari\\Dataset\\datasets_master\\maps'"
   ]
  },
  {
   "cell_type": "code",
   "execution_count": null,
   "metadata": {},
   "outputs": [],
   "source": [
    "save_dir = r'G:\\EFS-GX6\\4130_Arbeitsgruppen\\4137_KHO_Performance\\Studentische_Themen\\RaviKothari\\Dataset\\CARRADA_old\\50_Dataset\\bi_variate_norm_latest'"
   ]
  },
  {
   "cell_type": "code",
   "execution_count": null,
   "metadata": {},
   "outputs": [],
   "source": [
    "save_map =r'G:\\EFS-GX6\\4130_Arbeitsgruppen\\4137_KHO_Performance\\Studentische_Themen\\RaviKothari\\Dataset\\CARRADA_old\\50_Dataset\\compare_old_new'"
   ]
  },
  {
   "cell_type": "code",
   "execution_count": null,
   "metadata": {},
   "outputs": [],
   "source": [
    "mask_dir = r'G:\\EFS-GX6\\4130_Arbeitsgruppen\\4137_KHO_Performance\\Studentische_Themen\\RaviKothari\\Dataset\\CARRADA_old\\50_Dataset\\bi_variate_norm_latest\\val_mask'\n",
    "save_dir_n = r'G:\\EFS-GX6\\4130_Arbeitsgruppen\\4137_KHO_Performance\\Studentische_Themen\\RaviKothari\\Dataset\\CARRADA_old\\50_Dataset\\bi_variate_norm_latest\\val_ra_map'"
   ]
  },
  {
   "cell_type": "code",
   "execution_count": null,
   "metadata": {},
   "outputs": [],
   "source": [
    "annotate = np.load('gt_annotation.npy',allow_pickle=True).item()"
   ]
  },
  {
   "cell_type": "code",
   "execution_count": null,
   "metadata": {},
   "outputs": [],
   "source": [
    "vect = np.zeros((2,9,9))\n",
    "for i in range(9):\n",
    "    for j in range(9):\n",
    "        vect[0,i,j] = 4-i\n",
    "        vect[1,i,j] = 4-j"
   ]
  },
  {
   "cell_type": "code",
   "execution_count": null,
   "metadata": {},
   "outputs": [],
   "source": [
    "\n",
    "for frame_name in tqdm(os.listdir(mask_dir)):\n",
    "    seq,frame,_ = frame_name.split('_')\n",
    "    map_0 = np.load(os.path.join(raw_radar_dir,seq,'range_angle_numpy',frame+'.npy'))\n",
    "    map_1 = np.load(os.path.join(raw_radar_dir,seq,'range_angle_numpy',str(int(frame)-1).zfill(6)+'.npy'))\n",
    "    map_2 = np.load(os.path.join(raw_radar_dir,seq,'range_angle_numpy',str(int(frame)-2).zfill(6)+'.npy'))\n",
    "    map_3 = np.load(os.path.join(raw_radar_dir,seq,'range_angle_numpy',str(int(frame)-3).zfill(6)+'.npy'))\n",
    "    map_4 = np.load(os.path.join(raw_radar_dir,seq,'range_angle_numpy',str(int(frame)-4).zfill(6)+'.npy'))\n",
    "    stacked_map = np.stack([map_0,map_1,map_2,map_3,map_4],axis=0)\n",
    "    np.save(os.path.join(save_dir_n,seq+'_'+frame + '.npy'),stacked_map)\n",
    "\n"
   ]
  },
  {
   "cell_type": "code",
   "execution_count": null,
   "metadata": {},
   "outputs": [],
   "source": [
    "for seq in tqdm(radar_folder_list):\n",
    "    #print(seq)\n",
    "    \n",
    "    tracks = annotate[seq]['tracks']\n",
    "    random.shuffle(tracks)\n",
    "    train_num = int(len(tracks)*train_per)\n",
    "    val_num = int(len(tracks)*val_per+1)\n",
    "    for cnt, track in enumerate(tracks) :\n",
    "        frame = str(track[-1]).zfill(6)\n",
    "        ra_map = np.load(os.path.join(raw_radar_dir,seq,'range_angle_numpy',frame+'.npy'))\n",
    "        rd_map = np.load(os.path.join(doppler_dir,seq,'rd_map',frame+'.npy'))\n",
    "        ad_map = np.load(os.path.join(doppler_dir,seq,'ad_map',frame+'.npy'))\n",
    "        ra_mask,center_map,orent_map = bi_var_gauss(annotate[seq][frame],vect)\n",
    "        \n",
    "        \n",
    "        \n",
    "        if cnt<train_num:\n",
    "            string = 'train'\n",
    "        else: string = 'val'\n",
    "        np.save(os.path.join(save_dir,string +'_ra_map',seq+'_'+frame + '.npy'),ra_map)\n",
    "        np.save(os.path.join(save_dir,string +'_rd_map',seq+'_'+frame + '.npy'),rd_map)\n",
    "        np.save(os.path.join(save_dir,string + '_ad_map',seq+'_'+frame + '.npy'),ad_map)\n",
    "        np.save(os.path.join(save_dir,string +'_center',seq+'_'+frame + '_center.npy'),center_map)\n",
    "        np.save(os.path.join(save_dir,string +'_mask',seq+'_'+frame + '_mask.npy'),ra_mask)\n",
    "        np.save(os.path.join(save_dir,string +'_orent',seq+'_'+frame + '_orent.npy'), orent_map)"
   ]
  },
  {
   "cell_type": "code",
   "execution_count": null,
   "metadata": {},
   "outputs": [],
   "source": [
    "count=0\n",
    "for name in tqdm(os.listdir(val_mask)):\n",
    "    seq,frame,_= name.split('_')\n",
    "    \n",
    "    box_old  = json.load(open(os.path.join(raw_radar_dir,seq,'box_proj.json')))\n",
    "    box_new = []\n",
    "    try:\n",
    "        box_new = np.load(os.path.join(raw_radar_dir,seq,'box_proj.npy'),allow_pickle=True).item()\n",
    "    except : pass\n",
    "\n",
    "    if frame in box_old and frame in box_new:\n",
    "        if len(box_old[frame])!=0 and len(box_new[frame])!=0:\n",
    "            case = False\n",
    "            if len(box_old[frame]['idx'])!=len(box_new[frame]['idx']):\n",
    "                case= True\n",
    "                count+=1\n",
    "            \n",
    "            else:\n",
    "                for cnt,cl in enumerate(box_new[frame]['idx']):\n",
    "                    a1_n,r1_n,a2_n,r2_n = box_new[frame]['idx'][cnt]\n",
    "                    a1,r1,a2,r2 = box_old[frame]['idx'][cnt]\n",
    "                    if a1_n!=a1 or a2_n!=a2 or r1_n!=r1 or r2_n!=r2: case=True\n",
    "            if case:\n",
    "                \n",
    "                ra_map = np.load(os.path.join(raw_radar_dir,seq,'range_angle_numpy',f\"{frame}.npy\"))\n",
    "                ra_mask = np.zeros((3,256,256))\n",
    "                ra_mask, ra_gauss = gauss_map_2(ra_map,box_new[frame],ra_mask)\n",
    "                ra_gauss = np.float32(ra_gauss)\n",
    "                mask_save = os.path.join(val_mask_updated,f\"{seq}_{str(frame)}_mask.npy\")\n",
    "                np.save(mask_save,ra_gauss)\n",
    "\n",
    "\n",
    "                           \n",
    "                            \n",
    "\n",
    "print(seq, count)"
   ]
  },
  {
   "cell_type": "code",
   "execution_count": null,
   "metadata": {},
   "outputs": [],
   "source": [
    "count=0\n",
    "for name in tqdm(os.listdir(val_mask)):\n",
    "    \n",
    "    seq,frame,_= name.split('_')\n",
    "    box_old  = json.load(open(os.path.join(raw_radar_dir,seq,'box_proj.json')))\n",
    "    box_new = []\n",
    "    try:\n",
    "        box_new = np.load(os.path.join(raw_radar_dir,seq,'box_proj.npy'),allow_pickle=True).item()\n",
    "    except : pass\n",
    "\n",
    "    if frame in box_old and frame in box_new:\n",
    "        if len(box_old[frame])!=0 and len(box_new[frame])!=0:\n",
    "            case = False\n",
    "            if len(box_old[frame]['idx'])!=len(box_new[frame]['idx']):\n",
    "                case= True\n",
    "            \n",
    "            else:\n",
    "                for cnt,cl in enumerate(box_new[frame]['idx']):\n",
    "                    a1_n,r1_n,a2_n,r2_n = box_new[frame]['idx'][cnt]\n",
    "                    a1,r1,a2,r2 = box_old[frame]['idx'][cnt]\n",
    "                    if a1_n!=a1 or a2_n!=a2 or r1_n!=r1 or r2_n!=r2: case=True\n",
    "            if case:\n",
    "                \n",
    "                ra_map = np.load(os.path.join(raw_radar_dir,seq,'range_angle_numpy',f\"{frame}.npy\"))\n",
    "                rd_map = np.load(os.path.join(val_rd_map,seq+'_'+frame+'.npy'))\n",
    "                ad_map = np.load(os.path.join(val_ad_map,seq+'_'+frame+'.npy'))\n",
    "                ra_mask = np.zeros((3,256,256))\n",
    "                ra_mask, ra_gauss = gauss_map_2(ra_map,box_old[frame],ra_mask)\n",
    "                fig,ax = plt.subplots(3,3,figsize=(15,15))\n",
    "                for i in range(3):\n",
    "                    ax[0,i].imshow(ra_gauss[i,::])\n",
    "                ra_mask = np.zeros((3,256,256))\n",
    "                ra_mask, ra_gauss = gauss_map_2(ra_map,box_new[frame],ra_mask)\n",
    "                for i in range(3):\n",
    "                    ax[1,i].imshow(ra_gauss[i,::])\n",
    "                ax[2,0].imshow(ra_map)\n",
    "                ax[2,1].imshow(rd_map)\n",
    "                ax[2,2].imshow(ad_map)\n",
    "                mask_save = os.path.join(save_map,f\"{seq}_{str(frame)}.jpg\")\n",
    "                plt.savefig(mask_save)\n",
    "                plt.close()\n",
    "                \n",
    "\n",
    "                \n"
   ]
  },
  {
   "cell_type": "code",
   "execution_count": null,
   "metadata": {},
   "outputs": [],
   "source": [
    "print(seq,frame[idx])"
   ]
  },
  {
   "cell_type": "code",
   "execution_count": null,
   "metadata": {},
   "outputs": [],
   "source": [
    "# shutil.rmtree(train_mask)\n",
    "# shutil.rmtree(val_mask)\n",
    "# shutil.rmtree(train_radar)\n",
    "# shutil.rmtree(val_radar)"
   ]
  },
  {
   "cell_type": "code",
   "execution_count": null,
   "metadata": {},
   "outputs": [],
   "source": [
    "for counter, seq in enumerate(tqdm(radar_folder_list)):\n",
    "    #os.mkdir(os.path.join(raw_radar_dir,seq,'gauss'))\n",
    "    frame = os.listdir(os.path.join(raw_radar_dir,seq, 'annotations','dense'))\n",
    "    box = json.load(open(os.path.join(raw_radar_dir,seq,'box_proj.json')))\n",
    "    for idx in range(len(frame)):\n",
    "        if frame[idx] in box:\n",
    "            if len(box[frame[idx]])!=0:\n",
    "                ra_map = np.load(os.path.join(raw_radar_dir,seq,'range_angle_numpy',f\"{frame[idx]}.npy\"))\n",
    "                ra_mask = np.zeros((3,256,256))\n",
    "                ra_mask, ra_gauss = gauss_map_2(ra_map,box[frame[idx]],ra_mask)\n",
    "                mask_save = os.path.join(raw_radar_dir,seq,'gauss',f\"{str(frame[idx])}_gauss.npy\")\n",
    "                np.save(mask_save,ra_gauss)"
   ]
  },
  {
   "cell_type": "code",
   "execution_count": null,
   "metadata": {},
   "outputs": [],
   "source": [
    "print(seq)"
   ]
  },
  {
   "cell_type": "code",
   "execution_count": null,
   "metadata": {},
   "outputs": [],
   "source": [
    "for counter, seq in enumerate(tqdm(radar_folder_list)):\n",
    "    frame = os.listdir(os.path.join(raw_radar_dir,seq, 'annotations','dense'))\n",
    "    random.shuffle(frame)\n",
    "    box = json.load(open(os.path.join(raw_radar_dir,seq,'box_proj.json')))\n",
    "    for idx in range(15):\n",
    "        if frame[idx] in box:\n",
    "            if len(box[frame[idx]])!=0:\n",
    "                ra_map = np.load(os.path.join(raw_radar_dir,seq,'range_angle_numpy',f\"{frame[idx]}.npy\"))\n",
    "                ra_mask = np.zeros((3,256,256))\n",
    "                ra_mask, ra_gauss = gauss_map_2(ra_map,box[frame[idx]],ra_mask)\n",
    "                mask_save = os.path.join(gauss_dir,f\"{seq}_{str(frame[idx])}_gauss.jpg\")\n",
    "                img_dir = os.path.join(raw_radar_dir,seq,'camera_images',frame[idx]+str('.jpg'))\n",
    "                save_gauss_2(ra_mask,ra_gauss,ra_map,img_dir,mask_save)\n"
   ]
  },
  {
   "cell_type": "code",
   "execution_count": null,
   "metadata": {},
   "outputs": [],
   "source": [
    "np.max(ra_gauss)"
   ]
  },
  {
   "cell_type": "code",
   "execution_count": null,
   "metadata": {},
   "outputs": [],
   "source": [
    "for counter, seq in enumerate(tqdm(radar_folder_list)):\n",
    "    frame = os.listdir(os.path.join(raw_radar_dir,seq, 'annotations','dense'))\n",
    "    random.shuffle(frame)\n",
    "    box = json.load(open(os.path.join(raw_radar_dir,seq,'box_proj.json')))\n",
    "    train_num = int(len(frame)*train_per)\n",
    "    val_num = int(len(frame)*val_per+1)\n",
    "    for idx in range(train_num+val_num):\n",
    "        if frame[idx] in box:\n",
    "            if len(box[frame[idx]])!=0:\n",
    "                ra_map = np.load(os.path.join(raw_radar_dir,seq,'range_angle_numpy',f\"{frame[idx]}.npy\"))\n",
    "                ra_mask = np.load(os.path.join(raw_radar_dir,seq,'gauss',f\"{frame[idx]}_gauss.npy\"))\n",
    "                if idx < train_num:\n",
    "                    map_save = os.path.join(train_radar,f\"{seq}_{str(frame[idx])}.npy\")\n",
    "                    mask_save = os.path.join(train_mask,f\"{seq}_{str(frame[idx])}_mask.npy\")\n",
    "                else:\n",
    "                    map_save = os.path.join(val_radar,f\"{seq}_{str(frame[idx])}.npy\")\n",
    "                    mask_save = os.path.join(val_mask,f\"{seq}_{str(frame[idx])}_mask.npy\")\n",
    "                \n",
    "                ra_mask = np.float32(ra_mask)\n",
    "                ra_map = np.float32(ra_map)\n",
    "                np.save(map_save,ra_map)\n",
    "                np.save(mask_save,ra_mask)\n",
    "            \n",
    "\n",
    "        "
   ]
  },
  {
   "cell_type": "code",
   "execution_count": null,
   "metadata": {},
   "outputs": [],
   "source": [
    "print(seq)"
   ]
  },
  {
   "cell_type": "code",
   "execution_count": null,
   "metadata": {},
   "outputs": [],
   "source": [
    "mask = np.load(os.path.join(train_mask,seq+str('_000099_mask.npy')))"
   ]
  },
  {
   "cell_type": "code",
   "execution_count": null,
   "metadata": {},
   "outputs": [],
   "source": [
    "plt.imshow(mask[2,:,:])"
   ]
  }
 ],
 "metadata": {
  "interpreter": {
   "hash": "ca8b11dee59b03efada6975717c601cb8c8f2829b935f9d14c3373d62dfb23e3"
  },
  "kernelspec": {
   "display_name": "Python 3.7.4 64-bit",
   "name": "python3"
  },
  "language_info": {
   "codemirror_mode": {
    "name": "ipython",
    "version": 3
   },
   "file_extension": ".py",
   "mimetype": "text/x-python",
   "name": "python",
   "nbconvert_exporter": "python",
   "pygments_lexer": "ipython3",
   "version": "3.7.4"
  },
  "orig_nbformat": 4
 },
 "nbformat": 4,
 "nbformat_minor": 2
}
