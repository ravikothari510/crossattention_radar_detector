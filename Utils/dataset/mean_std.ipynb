{
 "cells": [
  {
   "cell_type": "code",
   "execution_count": 1,
   "source": [
    "import os\r\n",
    "import numpy as np"
   ],
   "outputs": [],
   "metadata": {}
  },
  {
   "cell_type": "code",
   "execution_count": 2,
   "source": [
    "train_dir = r'G:\\EFS-GX6\\4130_Arbeitsgruppen\\4137_KHO_Performance\\Studentische_Themen\\RaviKothari\\Dataset\\CARRADA_old\\Dataset\\train_radar'\r\n",
    "list = os.listdir(train_dir)"
   ],
   "outputs": [],
   "metadata": {}
  },
  {
   "cell_type": "code",
   "execution_count": 3,
   "source": [
    "mean_list =[]\r\n",
    "std_list =[]\r\n",
    "for name in list:\r\n",
    "    data = np.load(os.path.join(train_dir,name))\r\n",
    "    mean_list = np.append(mean_list,np.mean(data))\r\n",
    "    std_list = np.append(np.std(data),std_list)\r\n"
   ],
   "outputs": [],
   "metadata": {}
  },
  {
   "cell_type": "code",
   "execution_count": 6,
   "source": [
    "print(np.mean(mean_list))\r\n",
    "print(np.mean(std_list))"
   ],
   "outputs": [
    {
     "output_type": "stream",
     "name": "stdout",
     "text": [
      "652.9831239983225\n",
      "1370.8532727985291\n"
     ]
    }
   ],
   "metadata": {}
  }
 ],
 "metadata": {
  "orig_nbformat": 4,
  "language_info": {
   "name": "python",
   "version": "3.7.4",
   "mimetype": "text/x-python",
   "codemirror_mode": {
    "name": "ipython",
    "version": 3
   },
   "pygments_lexer": "ipython3",
   "nbconvert_exporter": "python",
   "file_extension": ".py"
  },
  "kernelspec": {
   "name": "python3",
   "display_name": "Python 3.7.4 64-bit"
  },
  "interpreter": {
   "hash": "ca8b11dee59b03efada6975717c601cb8c8f2829b935f9d14c3373d62dfb23e3"
  }
 },
 "nbformat": 4,
 "nbformat_minor": 2
}