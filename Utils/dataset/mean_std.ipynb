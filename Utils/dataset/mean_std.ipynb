{
 "cells": [
  {
   "cell_type": "code",
   "execution_count": 1,
   "metadata": {},
   "outputs": [],
   "source": [
    "import os\n",
    "import numpy as np"
   ]
  },
  {
   "cell_type": "code",
   "execution_count": 2,
   "metadata": {},
   "outputs": [],
   "source": [
    "train_dir = r'dataset/fft_maps'\n",
    "list = os.listdir(train_dir)"
   ]
  },
  {
   "cell_type": "code",
   "execution_count": 3,
   "metadata": {},
   "outputs": [],
   "source": [
    "mean_list =[]\n",
    "std_list =[]\n",
    "for name in list:\n",
    "    data = np.load(os.path.join(train_dir,name))\n",
    "    mean_list = np.append(mean_list,np.mean(data))\n",
    "    std_list = np.append(np.std(data),std_list)\n"
   ]
  },
  {
   "cell_type": "code",
   "execution_count": 6,
   "metadata": {},
   "outputs": [
    {
     "name": "stdout",
     "output_type": "stream",
     "text": [
      "652.9831239983225\n",
      "1370.8532727985291\n"
     ]
    }
   ],
   "source": [
    "print(np.mean(mean_list))\n",
    "print(np.mean(std_list))"
   ]
  }
 ],
 "metadata": {
  "kernelspec": {
   "display_name": "Python 3.9.13 ('radar_cross')",
   "language": "python",
   "name": "python3"
  },
  "language_info": {
   "codemirror_mode": {
    "name": "ipython",
    "version": 3
   },
   "file_extension": ".py",
   "mimetype": "text/x-python",
   "name": "python",
   "nbconvert_exporter": "python",
   "pygments_lexer": "ipython3",
   "version": "3.9.13"
  },
  "orig_nbformat": 4,
  "vscode": {
   "interpreter": {
    "hash": "72c0408f9eceae58c9a0a512e2c2fe203df5f61cb599b5e35928ff2ede5583e0"
   }
  }
 },
 "nbformat": 4,
 "nbformat_minor": 2
}
