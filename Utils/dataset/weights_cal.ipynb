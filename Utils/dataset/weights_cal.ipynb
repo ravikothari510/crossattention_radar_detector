{
 "cells": [
  {
   "cell_type": "code",
   "execution_count": 6,
   "metadata": {},
   "outputs": [],
   "source": [
    "import os\n",
    "import numpy as np\n",
    "from collections import OrderedDict\n",
    "from tqdm import tqdm\n",
    "import subprocess"
   ]
  },
  {
   "cell_type": "code",
   "execution_count": 15,
   "metadata": {},
   "outputs": [],
   "source": [
    "mask_dir = r'G:\\EFS-GX6\\4130_Arbeitsgruppen\\4137_KHO_Performance\\Studentische_Themen\\RaviKothari\\Dataset\\CARRADA_old\\Dataset\\train_mask'\n",
    "mask_list = os.listdir(mask_dir)"
   ]
  },
  {
   "cell_type": "code",
   "execution_count": 16,
   "metadata": {},
   "outputs": [],
   "source": [
    "pixel = OrderedDict()\n",
    "pixel['Background'] = 0\n",
    "pixel['Pedestrain'] = 0\n",
    "pixel['Cyclist'] = 0\n",
    "pixel['Car'] = 0\n",
    "pixel_list = list(pixel.items())"
   ]
  },
  {
   "cell_type": "code",
   "execution_count": 17,
   "metadata": {},
   "outputs": [
    {
     "name": "stderr",
     "output_type": "stream",
     "text": [
      "100%|██████████| 1254/1254 [00:45<00:00, 27.43it/s]\n"
     ]
    }
   ],
   "source": [
    "for name  in tqdm(mask_list):\n",
    "    mask = np.load(os.path.join(mask_dir,name))\n",
    "    for idx in range(4):\n",
    "        pixel[pixel_list[idx][0]] += np.sum(mask[idx,:,:])"
   ]
  },
  {
   "cell_type": "code",
   "execution_count": 23,
   "metadata": {},
   "outputs": [
    {
     "name": "stdout",
     "output_type": "stream",
     "text": [
      "[0.00199827 0.99963126 0.99972113 0.99864934]\n"
     ]
    }
   ],
   "source": [
    "print(1-(weight/np.sum(weight)))"
   ]
  },
  {
   "cell_type": "code",
   "execution_count": 20,
   "metadata": {},
   "outputs": [],
   "source": [
    "weight = []\n",
    "for idx in range(4):\n",
    "    weight.append( pixel[pixel_list[idx][0]])"
   ]
  },
  {
   "cell_type": "code",
   "execution_count": 24,
   "metadata": {},
   "outputs": [
    {
     "name": "stdout",
     "output_type": "stream",
     "text": [
      "[0.00199827 0.99963126 0.99972113 0.99864934]\n"
     ]
    }
   ],
   "source": [
    "weight_final  = 1 -(weight/np.sum(weight))\n",
    "print(weight_final)"
   ]
  }
 ],
 "metadata": {
  "kernelspec": {
   "display_name": "Python 3.9.13 ('radar_cross')",
   "language": "python",
   "name": "python3"
  },
  "language_info": {
   "codemirror_mode": {
    "name": "ipython",
    "version": 3
   },
   "file_extension": ".py",
   "mimetype": "text/x-python",
   "name": "python",
   "nbconvert_exporter": "python",
   "pygments_lexer": "ipython3",
   "version": "3.9.13"
  },
  "orig_nbformat": 4,
  "vscode": {
   "interpreter": {
    "hash": "72c0408f9eceae58c9a0a512e2c2fe203df5f61cb599b5e35928ff2ede5583e0"
   }
  }
 },
 "nbformat": 4,
 "nbformat_minor": 2
}
