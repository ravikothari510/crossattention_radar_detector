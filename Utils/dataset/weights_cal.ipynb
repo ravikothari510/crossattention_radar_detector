{
 "cells": [
  {
   "cell_type": "code",
   "execution_count": 6,
   "source": [
    "import os\r\n",
    "import numpy as np\r\n",
    "from collections import OrderedDict\r\n",
    "from tqdm import tqdm\r\n",
    "import subprocess"
   ],
   "outputs": [],
   "metadata": {}
  },
  {
   "cell_type": "code",
   "execution_count": 15,
   "source": [
    "mask_dir = r'G:\\EFS-GX6\\4130_Arbeitsgruppen\\4137_KHO_Performance\\Studentische_Themen\\RaviKothari\\Dataset\\CARRADA_old\\Dataset\\train_mask'\r\n",
    "mask_list = os.listdir(mask_dir)"
   ],
   "outputs": [],
   "metadata": {}
  },
  {
   "cell_type": "code",
   "execution_count": 16,
   "source": [
    "pixel = OrderedDict()\r\n",
    "pixel['Background'] = 0\r\n",
    "pixel['Pedestrain'] = 0\r\n",
    "pixel['Cyclist'] = 0\r\n",
    "pixel['Car'] = 0\r\n",
    "pixel_list = list(pixel.items())"
   ],
   "outputs": [],
   "metadata": {}
  },
  {
   "cell_type": "code",
   "execution_count": 17,
   "source": [
    "for name  in tqdm(mask_list):\r\n",
    "    mask = np.load(os.path.join(mask_dir,name))\r\n",
    "    for idx in range(4):\r\n",
    "        pixel[pixel_list[idx][0]] += np.sum(mask[idx,:,:])"
   ],
   "outputs": [
    {
     "output_type": "stream",
     "name": "stderr",
     "text": [
      "100%|██████████| 1254/1254 [00:45<00:00, 27.43it/s]\n"
     ]
    }
   ],
   "metadata": {}
  },
  {
   "cell_type": "code",
   "execution_count": 23,
   "source": [
    "print(1-(weight/np.sum(weight)))"
   ],
   "outputs": [
    {
     "output_type": "stream",
     "name": "stdout",
     "text": [
      "[0.00199827 0.99963126 0.99972113 0.99864934]\n"
     ]
    }
   ],
   "metadata": {}
  },
  {
   "cell_type": "code",
   "execution_count": 20,
   "source": [
    "weight = []\r\n",
    "for idx in range(4):\r\n",
    "    weight.append( pixel[pixel_list[idx][0]])"
   ],
   "outputs": [],
   "metadata": {}
  },
  {
   "cell_type": "code",
   "execution_count": 24,
   "source": [
    "weight_final  = 1 -(weight/np.sum(weight))\r\n",
    "print(weight_final)"
   ],
   "outputs": [
    {
     "output_type": "stream",
     "name": "stdout",
     "text": [
      "[0.00199827 0.99963126 0.99972113 0.99864934]\n"
     ]
    }
   ],
   "metadata": {}
  }
 ],
 "metadata": {
  "orig_nbformat": 4,
  "language_info": {
   "name": "python",
   "version": "3.7.4",
   "mimetype": "text/x-python",
   "codemirror_mode": {
    "name": "ipython",
    "version": 3
   },
   "pygments_lexer": "ipython3",
   "nbconvert_exporter": "python",
   "file_extension": ".py"
  },
  "kernelspec": {
   "name": "python3",
   "display_name": "Python 3.7.4 64-bit"
  },
  "interpreter": {
   "hash": "ca8b11dee59b03efada6975717c601cb8c8f2829b935f9d14c3373d62dfb23e3"
  }
 },
 "nbformat": 4,
 "nbformat_minor": 2
}