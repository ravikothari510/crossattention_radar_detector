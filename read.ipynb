{
 "cells": [
  {
   "cell_type": "code",
   "execution_count": 7,
   "metadata": {},
   "outputs": [],
   "source": [
    "import numpy as np\n",
    "import json \n",
    "import os\n",
    "from collections import defaultdict\n",
    "from copy import deepcopy\n",
    "import random\n",
    "random.seed(1)"
   ]
  },
  {
   "cell_type": "code",
   "execution_count": 8,
   "metadata": {},
   "outputs": [],
   "source": [
    "gt_dir = r'dataset\\gt_maps'\n",
    "TRAIN_SPLIT = 0.7\n",
    "VAL_SPLIT = 0.15\n",
    "TEST_SPLIT = 0.15"
   ]
  },
  {
   "cell_type": "code",
   "execution_count": 9,
   "metadata": {},
   "outputs": [],
   "source": []
  },
  {
   "cell_type": "code",
   "execution_count": 10,
   "metadata": {},
   "outputs": [],
   "source": [
    "\n"
   ]
  },
  {
   "cell_type": "code",
   "execution_count": 11,
   "metadata": {},
   "outputs": [],
   "source": [
    "anno = defaultdict(dict)"
   ]
  },
  {
   "cell_type": "code",
   "execution_count": 12,
   "metadata": {},
   "outputs": [],
   "source": [
    "for scene in gt_anno.keys():\n",
    "    frames = list(gt_anno[scene].keys())\n",
    "    frames.sort()\n",
    "    anno[scene] = defaultdict(dict)\n",
    "    for frame in frames:\n",
    "        anno[scene][frame] = deepcopy(gt_anno[scene][frame])\n",
    "        if frame != 'tracks':\n",
    "            if gt_anno[scene][frame]: # frame not empty\n",
    "                if len(gt_anno[scene][frame]['idx']) == 1: # removing double bracket \n",
    "                    anno[scene][frame]['idx'] = gt_anno[scene][frame]['idx'][0]\n",
    "                if isinstance(gt_anno[scene][frame]['idx'], np.ndarray):\n",
    "                    anno[scene][frame]['idx'] = gt_anno[scene][frame]['idx'].tolist()\n",
    "                \n",
    "                if not isinstance(gt_anno[scene][frame]['orent'], list):\n",
    "                    gt_anno[scene][frame]['orent'] = [gt_anno[scene][frame]['orent']]\n",
    "                \n",
    "                temp = []\n",
    "                for covs in gt_anno[scene][frame]['sigma_cov']:\n",
    "                    if isinstance(covs, np.ndarray):\n",
    "                        covs = covs.tolist()\n",
    "                        for cov in covs:\n",
    "                            temp.append(cov)\n",
    "                    else:\n",
    "                        temp.append(covs)\n",
    "                \n",
    "                if len(gt_anno[scene][frame]['cls'])==1:\n",
    "                    anno[scene][frame]['sigma_cov'] = [temp[0]]\n",
    "                    if isinstance(gt_anno[scene][frame]['orent'][0], list):\n",
    "                        anno[scene][frame]['orent'] = gt_anno[scene][frame]['orent'][0]\n",
    "                    else:\n",
    "                        anno[scene][frame]['orent'] = [gt_anno[scene][frame]['orent'][0]]\n",
    "                        \n",
    "                elif len(gt_anno[scene][frame]['cls'])==2:\n",
    "                    if isinstance(gt_anno[scene][frame]['orent'][0], list):\n",
    "                        anno[scene][frame]['orent'] = [gt_anno[scene][frame]['orent'][0][0], gt_anno[scene][frame]['orent'][1]]\n",
    "\n",
    "                    anno[scene][frame]['sigma_cov'] = [temp[0], temp[-1]]\n",
    "                else:\n",
    "                    anno[scene][frame]['sigma_cov'] = temp\n",
    "                # if not isinstance(gt_anno[scene][frame]['orent'], list):\n",
    "                #     anno[scene][frame]['orent'] = [gt_anno[scene][frame]['orent']]\n",
    "                \n",
    "            pass\n",
    "        else:\n",
    "            anno[scene][frame] = [track.tolist() for track in gt_anno[scene][frame]]\n",
    "\n",
    "    "
   ]
  },
  {
   "cell_type": "code",
   "execution_count": null,
   "metadata": {},
   "outputs": [],
   "source": [
    "x = [2,3]"
   ]
  },
  {
   "cell_type": "code",
   "execution_count": null,
   "metadata": {},
   "outputs": [],
   "source": [
    "x = [3]\n",
    "print(x)"
   ]
  },
  {
   "cell_type": "code",
   "execution_count": 14,
   "metadata": {},
   "outputs": [],
   "source": [
    "with open('gt_anno.json','r') as f:\n",
    "    temp_anno = json.load(f)"
   ]
  },
  {
   "cell_type": "code",
   "execution_count": 8,
   "metadata": {},
   "outputs": [],
   "source": [
    "for sc_key, scene in temp_anno.items():\n",
    "    for frame_key, frame in scene.items():\n",
    "        if frame_key !='tracks':\n",
    "            if frame:\n",
    "                if len(frame['cls']) != len(frame['orent']):\n",
    "                    print(frame['cls'], frame['orent'], \\\n",
    "                        gt_anno[sc_key][frame_key]['cls'],\\\n",
    "                            gt_anno[sc_key][frame_key]['orent'],\\\n",
    "                                len(gt_anno[sc_key][frame_key]['cls'])) "
   ]
  },
  {
   "cell_type": "code",
   "execution_count": 13,
   "metadata": {},
   "outputs": [],
   "source": [
    "with open('gt_anno.json','w') as f:\n",
    "    json.dump(anno, f, indent=4)"
   ]
  },
  {
   "cell_type": "code",
   "execution_count": null,
   "metadata": {},
   "outputs": [],
   "source": [
    "np_file = r'C:\\Users\\u27v31\\Desktop\\AVL\\personal\\thesis\\Carrada\\2019-09-16-13-03-38\\range_angle_numpy\\000000.npy'\n",
    "rd_file = r'C:\\Users\\u27v31\\Desktop\\AVL\\personal\\thesis\\Carrada\\2019-09-16-13-03-38\\range_doppler_numpy\\000000.npy'"
   ]
  },
  {
   "cell_type": "code",
   "execution_count": 1,
   "metadata": {},
   "outputs": [],
   "source": [
    "import yaml\n",
    "with open('config.yaml','r') as f:\n",
    "        cfg = yaml.load(f, Loader=yaml.Loader )"
   ]
  },
  {
   "cell_type": "code",
   "execution_count": 2,
   "metadata": {},
   "outputs": [
    {
     "ename": "AttributeError",
     "evalue": "'dict' object has no attribute 'SOLVER'",
     "output_type": "error",
     "traceback": [
      "\u001b[1;31m---------------------------------------------------------------------------\u001b[0m",
      "\u001b[1;31mAttributeError\u001b[0m                            Traceback (most recent call last)",
      "Cell \u001b[1;32mIn[2], line 1\u001b[0m\n\u001b[1;32m----> 1\u001b[0m \u001b[43mcfg\u001b[49m\u001b[38;5;241;43m.\u001b[39;49m\u001b[43mSOLVER\u001b[49m\n",
      "\u001b[1;31mAttributeError\u001b[0m: 'dict' object has no attribute 'SOLVER'"
     ]
    }
   ],
   "source": [
    "cfg.SOLVER"
   ]
  },
  {
   "cell_type": "code",
   "execution_count": null,
   "metadata": {},
   "outputs": [],
   "source": [
    "rd_map = np.load(rd_file)"
   ]
  },
  {
   "cell_type": "code",
   "execution_count": null,
   "metadata": {},
   "outputs": [],
   "source": [
    "rd_map.shape"
   ]
  },
  {
   "cell_type": "code",
   "execution_count": null,
   "metadata": {},
   "outputs": [],
   "source": [
    "import matplotlib.pyplot as plt"
   ]
  },
  {
   "cell_type": "code",
   "execution_count": null,
   "metadata": {},
   "outputs": [],
   "source": [
    "plt.imshow(rd_map)"
   ]
  },
  {
   "cell_type": "code",
   "execution_count": null,
   "metadata": {},
   "outputs": [],
   "source": [
    "rd_map = np.flip(rd_map,0)\n",
    "rd_map = np.flip(rd_map,1)"
   ]
  },
  {
   "cell_type": "code",
   "execution_count": null,
   "metadata": {},
   "outputs": [],
   "source": [
    "plt.imshow(rd_map)"
   ]
  },
  {
   "cell_type": "code",
   "execution_count": null,
   "metadata": {},
   "outputs": [],
   "source": [
    "rad_map = np.load(os.path.join(rad_dir,ra_map_name))\n",
    "\n",
    "ad_map = np.fft.ifftshift(rad_map, axes=0)\n",
    "ad_map = np.fft.ifft(ad_map, axis=0)\n",
    "ad_map = pow(np.abs(ad_map), 2)\n",
    "ad_map = np.sum(ad_map, axis=0)\n",
    "ad_map = 10*np.log10(ad_map + 1)\n",
    "ad_map = np.transpose(ad_map)\n",
    "#ad_map = np.flip(ad_map,axis=1)\n",
    "ad_map[31:34,:]=0\n",
    "rd_map[:,31:34]=0\n",
    "\n",
    "ad_map = np.float32(ad_map)"
   ]
  },
  {
   "cell_type": "code",
   "execution_count": null,
   "metadata": {},
   "outputs": [],
   "source": [
    "ad_file = r'C:\\Users\\u27v31\\Desktop\\AVL\\personal\\thesis\\Carrada\\2019-09-16-13-03-38\\angle_doppler_processed\\000000.npy'"
   ]
  },
  {
   "cell_type": "code",
   "execution_count": null,
   "metadata": {},
   "outputs": [],
   "source": [
    "ad_map = np.load(ad_file)\n",
    "plt.imshow(ad_map)"
   ]
  },
  {
   "cell_type": "code",
   "execution_count": null,
   "metadata": {},
   "outputs": [],
   "source": []
  }
 ],
 "metadata": {
  "kernelspec": {
   "display_name": "Python 3.9.13 ('radar_cross')",
   "language": "python",
   "name": "python3"
  },
  "language_info": {
   "codemirror_mode": {
    "name": "ipython",
    "version": 3
   },
   "file_extension": ".py",
   "mimetype": "text/x-python",
   "name": "python",
   "nbconvert_exporter": "python",
   "pygments_lexer": "ipython3",
   "version": "3.9.13"
  },
  "orig_nbformat": 4,
  "vscode": {
   "interpreter": {
    "hash": "72c0408f9eceae58c9a0a512e2c2fe203df5f61cb599b5e35928ff2ede5583e0"
   }
  }
 },
 "nbformat": 4,
 "nbformat_minor": 2
}
